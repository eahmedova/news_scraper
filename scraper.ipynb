{
 "cells": [
  {
   "cell_type": "code",
   "execution_count": 4,
   "source": [
    "import requests\n",
    "from bs4 import BeautifulSoup\n",
    "import json"
   ],
   "outputs": [],
   "metadata": {}
  },
  {
   "cell_type": "code",
   "execution_count": 5,
   "source": [
    "url = 'https://www.reuters.com/article/us-health-coronavirus-global-deaths/global-coronavirus-deaths-pass-agonizing-milestone-of-1-million-idUSKBN26K08Y'\n",
    "def getPageContent(url):\n",
    "    response = requests.get(url)\n",
    "    if response.status_code != 200):\n",
    "        print('Error getting page loaded, status code is: ' +\n",
    "        str(response.status_code))\n",
    "        raise Exception(\n",
    "            'Check if the URL is valid, if you have internet connection'\n",
    "        )\n",
    "    else:\n",
    "        soupContent = BeautifulSoup(response.content, 'html.parser')\n",
    "        \n",
    "        \n",
    "coverpage = req.content"
   ],
   "outputs": [],
   "metadata": {}
  },
  {
   "cell_type": "code",
   "execution_count": 7,
   "source": [
    "soup = BeautifulSoup(coverpage)"
   ],
   "outputs": [],
   "metadata": {}
  },
  {
   "cell_type": "code",
   "execution_count": 11,
   "source": [
    "soup.find_all('h1')"
   ],
   "outputs": [
    {
     "output_type": "execute_result",
     "data": {
      "text/plain": [
       "[<h1 class=\"Headline-headline-2FXIq Headline-black-OogpV ArticleHeader-headline-NlAqj\">Global coronavirus deaths rise above 'mind-numbing' million</h1>]"
      ]
     },
     "metadata": {},
     "execution_count": 11
    }
   ],
   "metadata": {}
  },
  {
   "cell_type": "code",
   "execution_count": 12,
   "source": [
    "soup.find_all('h2')"
   ],
   "outputs": [
    {
     "output_type": "execute_result",
     "data": {
      "text/plain": [
       "[<h2 class=\"Headline-headline-2FXIq Headline-black-OogpV ArticleBody-heading-3h695\">INFECTIONS RISING</h2>]"
      ]
     },
     "metadata": {},
     "execution_count": 12
    }
   ],
   "metadata": {}
  },
  {
   "cell_type": "code",
   "execution_count": 30,
   "source": [
    "text = soup.find_all('p')\n",
    "result = []\n",
    "for par in text[:10]:\n",
    "    result.extend(par.find_all(text=True))"
   ],
   "outputs": [],
   "metadata": {}
  },
  {
   "cell_type": "code",
   "execution_count": 33,
   "source": [
    "result"
   ],
   "outputs": [
    {
     "output_type": "execute_result",
     "data": {
      "text/plain": [
       "['Discover Thomson Reuters',\n",
       " 'By ',\n",
       " 'Jane Wardell',\n",
       " '5 Min Read',\n",
       " '(Reuters) - The global coronavirus death toll surpassed a million on Tuesday, according to a Reuters tally, a bleak statistic in a pandemic that has devastated the global economy, overloaded health systems and turned daily life upside down.',\n",
       " 'The number of COVID-19 deaths this year is now double the number of people who die annually from malaria - and the death rate has increased in recent weeks as infections surge in several countries.',\n",
       " '“Our world has reached an agonizing milestone,” U.N. Secretary-General Antonio Guterres said in a statement.',\n",
       " '“It’s a mind-numbing figure. Yet we must never lose sight of each and every individual life. They were fathers and mothers, wives and husbands, brothers and sisters, friends and colleagues.”',\n",
       " 'It took just three months for COVID-19 deaths to double from half a million, an accelerating rate of fatalities since the first death was recorded in China in early January.',\n",
       " 'More than 5,400 people are dying around the world every 24 hours, according to Reuters calculations based on September averages, overwhelming funeral businesses and cemeteries.',\n",
       " 'That equates to about 226 people an hour, or one person every 16 seconds. In the time it takes to watch a 90-minute soccer match, 340 people die on average.']"
      ]
     },
     "metadata": {},
     "execution_count": 33
    }
   ],
   "metadata": {}
  },
  {
   "cell_type": "code",
   "execution_count": null,
   "source": [],
   "outputs": [],
   "metadata": {}
  }
 ],
 "metadata": {
  "orig_nbformat": 4,
  "language_info": {
   "name": "python",
   "version": "3.8.5",
   "mimetype": "text/x-python",
   "codemirror_mode": {
    "name": "ipython",
    "version": 3
   },
   "pygments_lexer": "ipython3",
   "nbconvert_exporter": "python",
   "file_extension": ".py"
  },
  "kernelspec": {
   "name": "python3",
   "display_name": "Python 3.8.5 64-bit ('base': conda)"
  },
  "interpreter": {
   "hash": "65e9f7075db97b2bbee6eeb249d60d46562473f2de6b17b23dc658a3763d1a1f"
  }
 },
 "nbformat": 4,
 "nbformat_minor": 2
}